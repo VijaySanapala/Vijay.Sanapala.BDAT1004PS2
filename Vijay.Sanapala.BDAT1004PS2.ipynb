{
 "cells": [
  {
   "cell_type": "markdown",
   "metadata": {},
   "source": [
    "## Question 1) Consider the following Python module. What value is displayed when the last expression (a) is evaluated? Explain your answer by indicating what happens in every executed statement."
   ]
  },
  {
   "cell_type": "code",
   "execution_count": 63,
   "metadata": {},
   "outputs": [
    {
     "name": "stdout",
     "output_type": "stream",
     "text": [
      "6\n"
     ]
    }
   ],
   "source": [
    "a = 0\n",
    "def b():\n",
    "    global a\n",
    "    a = c(a)\n",
    "def c(a):\n",
    "    return a + 2\n",
    "\n",
    "b()\n",
    "b()\n",
    "b()\n",
    "print(a)"
   ]
  },
  {
   "cell_type": "markdown",
   "metadata": {},
   "source": [
    "# Solution: When the last expression 'a' is evaluated the output will be '6', because the inside function b() , ''global a\" makes the variable 'a' global variable therefore when we call c(a) the value of global variable 'a' is passed as a parameter in the function and function returns a+2 which assigns to 'a'. since 'a' is global it will update every time a is changed from b() at last after 3 times we get the final value of 'a' as '6' "
   ]
  },
  {
   "cell_type": "markdown",
   "metadata": {},
   "source": [
    "# Question 2) Function fileLength(), given to you, takes the name of a file as input and returns the length of the file. Modify function fileLength() so that a friendly message is printed instead:"
   ]
  },
  {
   "cell_type": "code",
   "execution_count": 64,
   "metadata": {},
   "outputs": [],
   "source": [
    "def fileLength(name):\n",
    "#update the file name as the input and prints length\n",
    "    try:\n",
    "        text = open(name, 'r')\n",
    "        data = text.read()\n",
    "        print(len(data))\n",
    "        text.close()\n",
    "        \n",
    "    except FileNotFoundError as file_error:\n",
    "        print('fileLength of {} is dummy'.format(name))         \n",
    "#returns error if file not found'"
   ]
  },
  {
   "cell_type": "code",
   "execution_count": 65,
   "metadata": {},
   "outputs": [
    {
     "name": "stdout",
     "output_type": "stream",
     "text": [
      "478\n"
     ]
    }
   ],
   "source": [
    "fileLength('currencies.txt')    "
   ]
  },
  {
   "cell_type": "code",
   "execution_count": 66,
   "metadata": {},
   "outputs": [
    {
     "name": "stdout",
     "output_type": "stream",
     "text": [
      "fileLength of midterm.py is dummy\n"
     ]
    }
   ],
   "source": [
    "fileLength('midterm.py')"
   ]
  },
  {
   "cell_type": "markdown",
   "metadata": {},
   "source": [
    "### Question 3: Write a class named Marsupial that can be used as shown below: a. extends the Marsupial __init__ constructor to take, as input, the coordinates x and y of the Kangaroo object, b. supports method jump that takes number values dx and dy as input and moves the kangaroo by dx units along the x-axis and by dy units along the y-axis, and c. overloads the __str__ operator so it behaves as shown below."
   ]
  },
  {
   "cell_type": "code",
   "execution_count": 67,
   "metadata": {},
   "outputs": [],
   "source": [
    "class Marsupial():                #Super class for Kangaroo with list initiation'\n",
    "    \n",
    "    def __init__(self, initial = []):\n",
    "        self.lst = []\n",
    "    \n",
    "    def put_in_pouch(self, item):     #Appending the list\n",
    "        self.lst.append(item)\n",
    "        \n",
    "    def pouch_contents(self):\n",
    "        return self.lst"
   ]
  },
  {
   "cell_type": "code",
   "execution_count": 68,
   "metadata": {},
   "outputs": [],
   "source": [
    "m = Marsupial()"
   ]
  },
  {
   "cell_type": "code",
   "execution_count": 69,
   "metadata": {},
   "outputs": [],
   "source": [
    "m.put_in_pouch('doll')\n",
    "m.put_in_pouch('firetruck')\n",
    "m.put_in_pouch('kitten')"
   ]
  },
  {
   "cell_type": "code",
   "execution_count": 70,
   "metadata": {},
   "outputs": [
    {
     "data": {
      "text/plain": [
       "['doll', 'firetruck', 'kitten']"
      ]
     },
     "execution_count": 70,
     "metadata": {},
     "output_type": "execute_result"
    }
   ],
   "source": [
    "m.pouch_contents()"
   ]
  },
  {
   "cell_type": "code",
   "execution_count": 71,
   "metadata": {},
   "outputs": [],
   "source": [
    "class Marsupial:                                      #extending the class Marsupial\n",
    "    def __init__(self):\n",
    "        self.pouch = list()\n",
    "        \n",
    "    def put_in_pouch(self,obj):\n",
    "        self.pouch.append(obj)\n",
    "        \n",
    "    def pouch_content(self):\n",
    "        print(self.pouch)\n",
    " \n",
    "\n",
    " # creating a new class Kangaroo and inheriting Marsupial\n",
    "  \n",
    "class Kangaroo (Marsupial):                \n",
    "    def __init__(self,x,y):                           # taking coordinates x and y to take as input\n",
    "        super(Kangaroo, self).__init__()\n",
    "        self.x = x\n",
    "        self.y = y\n",
    "        \n",
    "    def jump(self,dx,dy):                             \n",
    "        self.x+= dx                                  \n",
    "        self.y+= dy\n",
    "        \n",
    "    def __str__(self):                                # overloading the string functiobn\n",
    "        str_new = \"i am a kangaroo located at coordinates ({},{})\".format(self.x,self.y)\n",
    "        return str_new"
   ]
  },
  {
   "cell_type": "code",
   "execution_count": 72,
   "metadata": {},
   "outputs": [
    {
     "name": "stdout",
     "output_type": "stream",
     "text": [
      "i am a kangaroo located at coordinates (0,0)\n",
      "['doll', 'kitten', 'firetruck']\n",
      "i am a kangaroo located at coordinates (3,0)\n"
     ]
    }
   ],
   "source": [
    "m=Kangaroo(0,0)\n",
    "print(m)\n",
    "m.put_in_pouch(\"doll\")\n",
    "m.put_in_pouch(\"kitten\")\n",
    "m.put_in_pouch(\"firetruck\")\n",
    "m.pouch_content()\n",
    "m.jump(1,0)\n",
    "m.jump(1,0)\n",
    "m.jump(1,0)\n",
    "print(m)"
   ]
  },
  {
   "cell_type": "markdown",
   "metadata": {},
   "source": [
    "# Question 4) Implement a new GUI class App that combines user defined tkinter widget classes Calculator and Mortgage."
   ]
  },
  {
   "cell_type": "code",
   "execution_count": 73,
   "metadata": {},
   "outputs": [],
   "source": [
    "### Mortgage class\n",
    "\n",
    "from tkinter import Tk, Canvas, Frame, BOTH, Button, Entry, END, Label, LEFT, RIGHT, RAISED\n",
    "import math\n",
    "\n",
    "class Mortgage(Frame):       #Class to calculate Monthly Mortgage Payments\n",
    "    \n",
    "    def __init__(self, parent):\n",
    "        Frame.__init__(self, parent)\n",
    "        \n",
    "        label = Label(self, text='Loan Amount:')\n",
    "        label.grid(row=0, column=0, padx=10, pady=10)\n",
    "        \n",
    "        self.loanEnt = Entry(self)\n",
    "        self.loanEnt.grid(row=0, column=1, padx=10, pady=10)\n",
    "        \n",
    "        label = Label(self, text='Interest Rate:')\n",
    "        label.grid(row=1, column=0, padx=10, pady=5)\n",
    "        \n",
    "        self.interestEnt = Entry(self)\n",
    "        self.interestEnt.grid(row=1, column=1, padx=10, pady=5)\n",
    "        \n",
    "        label = Label(self, text='Loan Terms:')\n",
    "        label.grid(row=2, column=0, padx=10, pady=5)\n",
    "        \n",
    "        self.termsEnt = Entry(self)\n",
    "        self.termsEnt.grid(row=2, column=1, padx=10, pady=5)\n",
    "        \n",
    "        button = Button(self, text='Compute Mortgage:', command=self.compute)\n",
    "        button.grid(row=3, column=0, padx=10, pady=5)\n",
    "        \n",
    "        self.mortgageAmount = Entry(self)\n",
    "        self.mortgageAmount.grid(row=3, column=1, padx=10, pady=5)\n",
    "        \n",
    "    def compute(self):\n",
    "        self.P = float(self.loanEnt.get())\n",
    "        self.r = float(self.interestEnt.get())/100\n",
    "        self.t = float(self.termsEnt.get())\n",
    "        self.n = 12\n",
    "        self.M = (self.P*(self.r/self.n)*(1 + (self.r / self.n))**(self.n*self.t))/(((1 + (self.r / self.n))**(self.n*self.t)) - 1)\n",
    "        self.mortgageAmount.delete(0, END)\n",
    "        self.mortgageAmount.insert(0, round(self.M, 2))\n",
    "        \n",
    "        #referred https://www.geeksforgeeks.org/python-simple-gui-calculator-using-tkinter/, https://www.tutorialspoint.com/simple-gui-calculator-using-tkinter-in-python"
   ]
  },
  {
   "cell_type": "code",
   "execution_count": 74,
   "metadata": {},
   "outputs": [],
   "source": [
    "# Calculator class\n",
    "\n",
    "class Calculator(Frame):\n",
    "    \n",
    "    def __init__(self, parent):\n",
    "        Frame.__init__(self, parent)\n",
    "        \n",
    "        self.displayArea = Entry(self, bg = 'gray75')\n",
    "        self.displayArea.grid(row=0, column=1, padx=5, pady=5)\n",
    "        self.displayArea.focus_set()\n",
    "        \n",
    "        buttonMC = Button(self, text='MC', bg ='white', command=self.clearall, height=1, width=3, relief=RAISED)\n",
    "        buttonMC.grid(row=1, column=0, padx=5, pady=5)\n",
    "        \n",
    "        buttonMP = Button(self, text='M+', bg ='white', command=self.clearall, height=1, width=3, relief=RAISED)\n",
    "        buttonMP.grid(row=1, column=1, padx=5, pady=5)\n",
    "        \n",
    "        buttonMM = Button(self, text='M-', bg ='white', command=self.clearall, height=1, width=3, relief=RAISED)\n",
    "        buttonMM.grid(row=1, column=2, padx=5, pady=5)\n",
    "        \n",
    "        buttonMR = Button(self, text='MR', bg ='white', command=self.clearall, height=1, width=3, relief=RAISED)\n",
    "        buttonMR.grid(row=1, column=3, padx=5, pady=5)\n",
    "        \n",
    "        ##\n",
    "        \n",
    "        \n",
    "        buttonC = Button(self, text='C', bg ='white', height=1, width=3, relief=RAISED, command=self.clearall)\n",
    "        buttonC.grid(row=2, column=0, padx=5, pady=5)\n",
    "        \n",
    "        buttonSquareRoot = Button(self, text='SqR', bg ='white', height=1, width=3, relief=RAISED, command=self.squareRoot)\n",
    "        buttonSquareRoot.grid(row=2, column=1, padx=5, pady=5)\n",
    "        \n",
    "        buttonSquare = Button(self, text='x^2', bg ='white', height=1, width=3, relief=RAISED, command=self.square)\n",
    "        buttonSquare.grid(row=2, column=2, padx=5, pady=5)\n",
    "        \n",
    "        buttonPlus = Button(self, text='+', bg ='white', height=1, width=3, relief=RAISED, command=lambda:self.action('+'))\n",
    "        buttonPlus.grid(row=2, column=3, padx=5, pady=5)\n",
    "        \n",
    "        ##\n",
    "        \n",
    "        button7 = Button(self, text='7', bg ='white', height=1, width=3, relief=RAISED, command=lambda:self.action(7))\n",
    "        button7.grid(row=3, column=0, padx=5, pady=5)\n",
    "        \n",
    "        button8 = Button(self, text='8', bg ='white', height=1, width=3, relief=RAISED, command=lambda:self.action(8))\n",
    "        button8.grid(row=3, column=1, padx=5, pady=5)\n",
    "        \n",
    "        button9 = Button(self, text='9', bg ='white', height=1, width=3, relief=RAISED, command=lambda:self.action(9))\n",
    "        button9.grid(row=3, column=2, padx=5, pady=5)\n",
    "        \n",
    "        buttonMinus = Button(self, text='-', bg ='white', width=3, relief=RAISED, command=lambda:self.action('-'))\n",
    "        buttonMinus.grid(row=3, column=3, padx=5, pady=5)\n",
    "        \n",
    "        ##\n",
    "        \n",
    "        button4 = Button(self, text='4', bg ='white', height=1, width=3, relief=RAISED, command=lambda:self.action(4))\n",
    "        button4.grid(row=4, column=0, padx=5, pady=5)\n",
    "        \n",
    "        button5 = Button(self, text='5', bg ='white', height=1, width=3, relief=RAISED, command=lambda:self.action(5))\n",
    "        button5.grid(row=4, column=1, padx=5, pady=5)\n",
    "        \n",
    "        button6 = Button(self, text='6', bg ='white', height=1, width=3, relief=RAISED, command=lambda:self.action(6))\n",
    "        button6.grid(row=4, column=2, padx=5, pady = 5)\n",
    "        \n",
    "        buttonMinus = Button(self, text='*', bg ='white', width=3, relief=RAISED, command=lambda:self.action('*'))\n",
    "        buttonMinus.grid(row=4, column=3, padx=5, pady=5)\n",
    "        \n",
    "        ##\n",
    "        \n",
    "        button1 = Button(self, text='1', bg ='white', height=1, width=3, relief=RAISED, command=lambda:self.action(1))\n",
    "        button1.grid(row=5, column=0, padx=5, pady=5)\n",
    "        \n",
    "        button2 = Button(self, text='2', bg ='white', height=1, width=3, relief=RAISED, command=lambda:self.action(2))\n",
    "        button2.grid(row=5, column=1, padx=5, pady=5)\n",
    "        \n",
    "        button3 = Button(self, text='3', bg ='white', height=1, width=3, relief=RAISED, command=lambda:self.action(3))\n",
    "        button3.grid(row=5, column=2, padx=5, pady=5)\n",
    "        \n",
    "        buttonDivide = Button(self, text='/', bg ='white', height=1, width=3, relief=RAISED, command=lambda:self.action('/'))\n",
    "        buttonDivide.grid(row=5, column=3, padx=5, pady=5)\n",
    "        ##\n",
    "        button0 = Button(self, text='0', bg ='white', height=1, width=3, relief=RAISED, command=lambda:self.action(0))\n",
    "        button0.grid(row=6, column=0, padx=5, pady=5)\n",
    "        \n",
    "        buttonPoint = Button(self, text='.', bg ='white', height=1, width=3, relief=RAISED, command=lambda:self.action('.'))\n",
    "        buttonPoint.grid(row=6, column=1, padx=5, pady=5)\n",
    "        \n",
    "        buttonPlusMinus = Button(self, text='+-', bg ='white', height=1, width=3, relief=RAISED, command=lambda:self.action('-'))\n",
    "        buttonPlusMinus.grid(row=6, column=2, padx=5, pady=5)\n",
    "        \n",
    "        buttonEquals = Button(self, text='=', bg ='white', height=1, width=3, relief=RAISED, command=lambda:self.equals())\n",
    "        buttonEquals.grid(row=6, column=3, padx=5, pady=5)\n",
    "        \n",
    "    def action(self,argi): \n",
    "        'pressed button value is inserted into the end of the text area'\n",
    "        self.displayArea.insert(END,argi) \n",
    "                \n",
    "    def getandreplace(self): \n",
    "        'replace x with *'\n",
    "        self.expression = self.displayArea.get()  \n",
    "        self.newtext=self.expression.replace('x','*') \n",
    "  \n",
    "  \n",
    "    def equals(self): \n",
    "        \"\"\"when the equal button is pressed\"\"\"\n",
    "        self.getandreplace() \n",
    "        try: \n",
    "            # evaluate the expression using the eval function \n",
    "            self.value= eval(self.newtext)  \n",
    "        except SyntaxError or NameError: \n",
    "            self.displayArea.delete(0,END) \n",
    "            self.displayArea.insert(0,'Invalid Input!') \n",
    "        else: \n",
    "            self.displayArea.delete(0,END) \n",
    "            self.displayArea.insert(0,self.value)\n",
    "            \n",
    "    def clearall(self): \n",
    "        \"\"\"when clear button is pressed,clears the text input area\"\"\"\n",
    "        self.displayArea.delete(0,END) \n",
    "        \n",
    "    def squareRoot(self): \n",
    "        \"\"\"squareroot method\"\"\"\n",
    "        self.getandreplace() \n",
    "        try: \n",
    "            # evaluate the expression using the eval function \n",
    "            self.value= eval(self.newtext)  \n",
    "        except SyntaxError or NameError: \n",
    "            self.displayArea.delete(0,END) \n",
    "            self.displayArea.insert(0,'Invalid Input!') \n",
    "        else: \n",
    "            self.sqrtval=math.sqrt(self.value) \n",
    "            self.displayArea.delete(0,END) \n",
    "            self.displayArea.insert(0,self.sqrtval) \n",
    "  \n",
    "    def square(self): \n",
    "        \"\"\"square method\"\"\"\n",
    "        self.getandreplace() \n",
    "        try: \n",
    "            #evaluate the expression using the eval function \n",
    "            self.value= eval(self.newtext)  \n",
    "        except SyntaxError or NameError: \n",
    "            self.displayArea.delete(0,END) \n",
    "            self.displayArea.insert(0,'Invalid Input!') \n",
    "        else: \n",
    "            self.sqval=math.pow(self.value,2) \n",
    "            self.displayArea.delete(0,END) \n",
    "            self.displayArea.insert(0,self.sqval) "
   ]
  },
  {
   "cell_type": "code",
   "execution_count": 75,
   "metadata": {},
   "outputs": [],
   "source": [
    "#App Class\n",
    "class App(Frame):  # Mortgage and Calculator classes'\n",
    "    \n",
    "    def __init__(self, master):\n",
    "        Frame.__init__(self, master)\n",
    "        mortgage = Mortgage(self)\n",
    "        mortgage.pack(side=LEFT)\n",
    "        calculator = Calculator(self)\n",
    "        calculator.pack(side=RIGHT)"
   ]
  },
  {
   "cell_type": "code",
   "execution_count": null,
   "metadata": {},
   "outputs": [],
   "source": [
    "from tkinter import Tk\n",
    "root = Tk()\n",
    "app = App(root)\n",
    "app.pack()\n",
    "root.mainloop()"
   ]
  },
  {
   "attachments": {
    "Screen%20Shot%202020-10-27%20at%2012.25.20%20PM.png": {
     "image/png": "[encoded data removed]"
    }
   },
   "cell_type": "markdown",
   "metadata": {},
   "source": [
    "![Screen%20Shot%202020-10-27%20at%2012.25.20%20PM.png](attachment:Screen%20Shot%202020-10-27%20at%2012.25.20%20PM.png)"
   ]
  },
  {
   "cell_type": "markdown",
   "metadata": {},
   "source": [
    "# Question 5: Write function collatz() that takes a positive integer x as input and prints the Collatz sequence starting at x. A Collatz sequence is obtained by repeatedly applying this rule to the previous number x in the sequence:"
   ]
  },
  {
   "cell_type": "code",
   "execution_count": 1,
   "metadata": {},
   "outputs": [],
   "source": [
    "#collatz that takes a positive integer x\n",
    "\n",
    "def collatz(x):\n",
    "    print(int(x))\n",
    "    if x==1:                       # using condition statemnt to check the sequence of x\n",
    "        return int(x)\n",
    "    elif x%2 == 0:\n",
    "        return collatz(x/2)        # checking for x/2\n",
    "    else:\n",
    "        return collatz(3*x+1)      # checking for last requirement according to question\n",
    "    "
   ]
  },
  {
   "cell_type": "code",
   "execution_count": 2,
   "metadata": {},
   "outputs": [
    {
     "name": "stdout",
     "output_type": "stream",
     "text": [
      "1\n"
     ]
    },
    {
     "data": {
      "text/plain": [
       "1"
      ]
     },
     "execution_count": 2,
     "metadata": {},
     "output_type": "execute_result"
    }
   ],
   "source": [
    "collatz(1)"
   ]
  },
  {
   "cell_type": "code",
   "execution_count": 3,
   "metadata": {},
   "outputs": [
    {
     "name": "stdout",
     "output_type": "stream",
     "text": [
      "10\n",
      "5\n",
      "16\n",
      "8\n",
      "4\n",
      "2\n",
      "1\n"
     ]
    },
    {
     "data": {
      "text/plain": [
       "1"
      ]
     },
     "execution_count": 3,
     "metadata": {},
     "output_type": "execute_result"
    }
   ],
   "source": [
    "collatz(10)"
   ]
  },
  {
   "cell_type": "markdown",
   "metadata": {},
   "source": [
    "# Question 6: Write a recursive method binary() that takes a non-negative integer n and prints the binary representation of integer n."
   ]
  },
  {
   "cell_type": "code",
   "execution_count": 4,
   "metadata": {},
   "outputs": [],
   "source": [
    "def binary(n):   #Returns binary value of a non-negative integer'\n",
    "    try:\n",
    "        if(n<0):\n",
    "            raise Error        #Raises Error if n is -ve\n",
    "        if n > 1:                   \n",
    "            binary(n//2)            #Recursive Function of half value of n without decimals\n",
    "        print (n % 2, end = '')\n",
    "    except ValueError:\n",
    "        print('Value n shouldnt be -ve')"
   ]
  },
  {
   "cell_type": "code",
   "execution_count": 5,
   "metadata": {},
   "outputs": [
    {
     "name": "stdout",
     "output_type": "stream",
     "text": [
      "0"
     ]
    }
   ],
   "source": [
    "binary(0)"
   ]
  },
  {
   "cell_type": "code",
   "execution_count": 6,
   "metadata": {},
   "outputs": [
    {
     "name": "stdout",
     "output_type": "stream",
     "text": [
      "1"
     ]
    }
   ],
   "source": [
    "binary(1)"
   ]
  },
  {
   "cell_type": "code",
   "execution_count": 7,
   "metadata": {},
   "outputs": [
    {
     "name": "stdout",
     "output_type": "stream",
     "text": [
      "11"
     ]
    }
   ],
   "source": [
    "binary(3)"
   ]
  },
  {
   "cell_type": "code",
   "execution_count": 8,
   "metadata": {},
   "outputs": [
    {
     "name": "stdout",
     "output_type": "stream",
     "text": [
      "1001"
     ]
    }
   ],
   "source": [
    "binary(9)"
   ]
  },
  {
   "cell_type": "markdown",
   "metadata": {},
   "source": [
    "# Question 7: Implement a class named HeadingParser that can be used to parse an HTML document, and retrieve and print all the headings in the document. You should implement your class as a subclass of HTMLParser, defined in Standard Library module html.parser. When fed a string containing HTML code, your class should print the headings, one per line and in the order in which they appear in the document. Each heading should be indented as follows: an h1 heading should have indentation 0, and h2 heading should have indentation 1, etc. Test your implementation using w3c.html."
   ]
  },
  {
   "cell_type": "code",
   "execution_count": 9,
   "metadata": {},
   "outputs": [],
   "source": [
    "# importing HTMLParser from  html.parser\n",
    "\n",
    "from html.parser import HTMLParser\n",
    "import os                                  \n",
    "\n",
    "class HeadingParser(HTMLParser):                # inheriting HTMLParser \n",
    "    def __init__(self):\n",
    "        HTMLParser.__init__(self)\n",
    "        self.heading = True\n",
    "        \n",
    "    def handle_starttag(self,tag,attrs):        # overriding method of HTMLParser\n",
    "        if tag == 'h1':                         \n",
    "            print(\"\",end=\"\")\n",
    "            self.heading = True\n",
    "        elif tag == 'h2':\n",
    "            print(\" \",end=\"\")               \n",
    "            self.heading = True\n",
    "        else:                                  \n",
    "            self.heading = False             \n",
    "            \n",
    "            \n",
    "    def handle_data(self,data):               \n",
    "        if self.heading == True:\n",
    "             print(data)\n",
    "             self.heading=False"
   ]
  },
  {
   "cell_type": "code",
   "execution_count": 10,
   "metadata": {},
   "outputs": [
    {
     "name": "stdout",
     "output_type": "stream",
     "text": [
      "/Users/vijaysanapala\n",
      "W3C Mission\n",
      " Principles \n",
      "\n"
     ]
    }
   ],
   "source": [
    "print(os.getcwd())\n",
    "infile=open(\"w3c.html\")                 \n",
    "content=infile.read()\n",
    "infile.close()\n",
    "hp=HeadingParser()\n",
    "hp.feed(content)"
   ]
  },
  {
   "cell_type": "markdown",
   "metadata": {},
   "source": [
    "# Question 8: Implement recursive function webdir() that takes as input: a URL (as a string) and non-negative integers depth and indent. Your function should visit every web page reachable from the starting URL web page in depth clicks or less, and print each web page's URL. As shown below, indentation, specified by indent, should be used to indicate the depth of a URL."
   ]
  },
  {
   "cell_type": "code",
   "execution_count": 11,
   "metadata": {},
   "outputs": [],
   "source": [
    "# importing HTMLParser\n",
    "\n",
    "from html.parser import HTMLParser\n",
    "import requests\n",
    "\n",
    "class UrlParser(HTMLParser):               # creating a class and inheriting HTMLParser in it\n",
    " \n",
    "    def __init__(self):\n",
    "        self.urls = []                     # taking empty list to add url\n",
    "        HTMLParser.__init__(self)\n",
    "\n",
    "    def handle_starttag(self, tag, attrs):\n",
    "        self.start_tag = tag\n",
    "        if tag == 'a':                     \n",
    "            for name,value in attrs:\n",
    "                if name == 'href':\n",
    "                    self.urls.append(value)\n",
    "\n",
    "                    \n",
    "# defining a function get urls\n",
    "    def getUrls(self):                   \n",
    "        return self.urls\n",
    "\n",
    "    \n",
    "# defining a webdir function that takes urls depth and indent\n",
    "\n",
    "def webdir(url,depth,indent):\n",
    "\n",
    "    if(depth==-1):\n",
    "        return\n",
    "    \n",
    "    tabs = \"\"\n",
    "    for x in range(indent):            \n",
    "        tabs = tabs+\"\\t\"\n",
    "    print(tabs+url)\n",
    "    \n",
    "    urlParser = UrlParser()\n",
    "    html = requests.get(url)\n",
    "    urlParser.feed(html.text)\n",
    "    urls = urlParser.getUrls()\n",
    "    \n",
    "\n",
    "#to print the urls of the website\n",
    "\n",
    "    for _url in urls:\n",
    "        if(not 'http' in _url):\n",
    "            _url = url+_url\n",
    "        webdir(_url,depth-1,indent+1)\n",
    "\n"
   ]
  },
  {
   "cell_type": "code",
   "execution_count": 61,
   "metadata": {},
   "outputs": [
    {
     "name": "stdout",
     "output_type": "stream",
     "text": [
      "https://www.geeksforgeeks.org\n",
      "\thttps://www.geeksforgeeks.org/\n",
      "\t\thttps://www.geeksforgeeks.org/\n",
      "\t\thttps://www.geeksforgeeks.org/analysis-of-algorithms-set-1-asymptotic-analysis/\n",
      "\t\thttps://www.geeksforgeeks.org/analysis-of-algorithms-set-2-asymptotic-analysis/\n",
      "\t\thttps://www.geeksforgeeks.org/analysis-of-algorithms-set-3asymptotic-notations/\n",
      "\t\thttps://www.geeksforgeeks.org/analysis-of-algorithems-little-o-and-little-omega-notations/\n",
      "\t\thttps://www.geeksforgeeks.org/lower-and-upper-bound-theory/\n",
      "\t\thttps://www.geeksforgeeks.org/analysis-of-algorithms-set-4-analysis-of-loops/\n",
      "\t\thttps://www.geeksforgeeks.org/analysis-algorithm-set-4-master-method-solving-recurrences/\n",
      "\t\thttps://www.geeksforgeeks.org/analysis-algorithm-set-5-amortized-analysis-introduction/\n",
      "\t\thttps://www.geeksforgeeks.org/g-fact-86/\n",
      "\t\thttps://www.geeksforgeeks.org/pseudo-polynomial-in-algorithms/\n",
      "\t\thttps://www.geeksforgeeks.org/polynomial-time-approximation-scheme/\n",
      "\t\thttps://www.geeksforgeeks.org/a-time-complexity-question/\n",
      "\t\thttps://www.geeksforgeeks.org/searching-algorithms/\n",
      "\t\thttps://www.geeksforgeeks.org/sorting-algorithms/\n",
      "\t\thttps://www.geeksforgeeks.org/graph-data-structure-and-algorithms/\n",
      "\t\thttps://www.geeksforgeeks.org/algorithms-gq/pattern-searching/\n",
      "\t\thttps://www.geeksforgeeks.org/geometric-algorithms/\n",
      "\t\thttps://www.geeksforgeeks.org/mathematical-algorithms/\n",
      "\t\thttps://www.geeksforgeeks.org/randomized-algorithms/\n",
      "\t\thttps://www.geeksforgeeks.org/greedy-algorithms/\n",
      "\t\thttps://www.geeksforgeeks.org/dynamic-programming/\n",
      "\t\thttps://www.geeksforgeeks.org/divide-and-conquer/\n",
      "\t\thttps://www.geeksforgeeks.org/backtracking-algorithms/\n",
      "\t\thttps://www.geeksforgeeks.org/branch-and-bound-algorithm/\n",
      "\t\thttps://www.geeksforgeeks.org/fundamentals-of-algorithms/\n",
      "\t\thttps://www.geeksforgeeks.org/array-data-structure/\n",
      "\t\thttps://www.geeksforgeeks.org/data-structures/linked-list/\n",
      "\t\thttps://www.geeksforgeeks.org/stack-data-structure/\n",
      "\t\thttps://www.geeksforgeeks.org/queue-data-structure/\n",
      "\t\thttps://www.geeksforgeeks.org/binary-tree-data-structure/\n",
      "\t\thttps://www.geeksforgeeks.org/binary-search-tree-data-structure/\n",
      "\t\thttps://www.geeksforgeeks.org/heap-data-structure/\n",
      "\t\thttps://www.geeksforgeeks.org/hashing-data-structure/\n",
      "\t\thttps://www.geeksforgeeks.org/graph-data-structure-and-algorithms/\n",
      "\t\thttps://www.geeksforgeeks.org/advanced-data-structures/\n",
      "\t\thttps://www.geeksforgeeks.org/matrix/\n",
      "\t\thttps://www.geeksforgeeks.org/string-data-structure/\n",
      "\t\thttps://www.geeksforgeeks.org/data-structures/\n",
      "\t\thttps://www.geeksforgeeks.org/c-programming-language/\n",
      "\t\thttps://www.geeksforgeeks.org/c-plus-plus/\n",
      "\t\thttps://www.geeksforgeeks.org/java/\n",
      "\t\thttps://www.geeksforgeeks.org/python-programming-language/\n",
      "\t\thttps://www.geeksforgeeks.org/csharp-programming-language/\n",
      "\t\thttps://www.geeksforgeeks.org/javascript-tutorial/\n",
      "\t\thttps://www.geeksforgeeks.org/jquery-tutorials/\n",
      "\t\thttps://www.geeksforgeeks.org/sql-tutorial/\n",
      "\t\thttps://www.geeksforgeeks.org/php/\n",
      "\t\thttps://www.geeksforgeeks.org/scala-programming-language/\n",
      "\t\thttps://www.geeksforgeeks.org/perl-programming-language/\n",
      "\t\thttps://www.geeksforgeeks.org/golang/\n",
      "\t\thttps://www.geeksforgeeks.org/html-tutorials/\n",
      "\t\thttps://www.geeksforgeeks.org/css-tutorials/\n",
      "\t\thttps://www.geeksforgeeks.org/kotlin-programming-language/\n",
      "\t\thttps://www.geeksforgeeks.org/company-preparation/\n",
      "\t\thttps://www.geeksforgeeks.org/interview-preparation-for-software-developer/\n",
      "\t\thttps://practice.geeksforgeeks.org/company-tags\n",
      "\t\thttps://www.geeksforgeeks.org/company-interview-corner/\n",
      "\t\thttps://www.geeksforgeeks.org/experienced-interview-experiences-company-wise/\n",
      "\t\thttps://www.geeksforgeeks.org/internship-interview-experiences-company-wise/\n",
      "\t\thttps://www.geeksforgeeks.org/category/competitive-programming/\n",
      "\t\thttps://www.geeksforgeeks.org/software-design-patterns/\n",
      "\t\thttps://www.geeksforgeeks.org/quiz-corner-gq/\n",
      "\t\thttps://www.geeksforgeeks.org/gate-cs-notes-gq/\n",
      "\t\thttps://www.geeksforgeeks.org/lmns-gq/\n",
      "\t\thttps://www.geeksforgeeks.org/gate-corner-2-gq/\n",
      "\t\thttps://www.geeksforgeeks.org/original-gate-previous-year-question-papers-cse-and-it-gq/\n",
      "\t\thttps://www.geeksforgeeks.org/gate-cs-2021-official-important-dates/\n",
      "\t\thttps://www.geeksforgeeks.org/gate-cs-2021-revised-syllabus/\n",
      "\t\thttps://www.geeksforgeeks.org/important-topics-prepare-gate-2020-computer-science-paper/\n",
      "\t\thttps://practice.geeksforgeeks.org/courses/Sudo-GATE-2021\n",
      "\t\thttps://www.geeksforgeeks.org/isro-cs-preparation/\n",
      "\t\thttps://www.geeksforgeeks.org/isro-original-papers-official-keys/\n",
      "\t\thttps://www.geeksforgeeks.org/isro-cse-syllabus-scientistengineer-exam-2018/\n",
      "\t\thttps://www.geeksforgeeks.org/ugc-net-cs-notes-according-to-syllabus-of-paper-ii/\n",
      "\t\thttps://www.geeksforgeeks.org/ugc-net-cs-notes-according-to-syllabus-of-paper-iii-core-group/\n",
      "\t\thttps://www.geeksforgeeks.org/ugc-net-cs-preparation/\n",
      "\t\thttps://www.geeksforgeeks.org/engineering-mathematics-tutorials/\n",
      "\t\thttps://www.geeksforgeeks.org/operating-systems/\n",
      "\t\thttps://www.geeksforgeeks.org/dbms/\n",
      "\t\thttps://www.geeksforgeeks.org/computer-network-tutorials/\n",
      "\t\thttps://www.geeksforgeeks.org/computer-organization-and-architecture-tutorials/\n",
      "\t\thttps://www.geeksforgeeks.org/theory-of-computation-automata-tutorials/\n",
      "\t\thttps://www.geeksforgeeks.org/compiler-design-tutorials/\n",
      "\t\thttps://www.geeksforgeeks.org/digital-electronics-logic-design-tutorials/#blg\n",
      "\t\thttps://www.geeksforgeeks.org/software-engineering/\n",
      "\t\thttps://www.geeksforgeeks.org/html-tutorials/\n",
      "\t\thttps://www.geeksforgeeks.org/css-tutorials/\n",
      "\t\thttps://www.geeksforgeeks.org/javascript-tutorial/\n",
      "\t\thttps://www.geeksforgeeks.org/jquery-tutorials/\n",
      "\t\thttps://www.geeksforgeeks.org/php/\n",
      "\t\thttps://practice.geeksforgeeks.org/jobs/\n",
      "\t\thttps://www.geeksforgeeks.org/campus-ambassador-program-by-geeksforgeeks/\n",
      "\t\thttps://www.geeksforgeeks.org/computer-science-projects/\n",
      "\t\thttps://www.geeksforgeeks.org/geek-of-the-month/\n",
      "\t\thttps://www.geeksforgeeks.org/campus-geek-of-the-month/\n",
      "\t\thttps://www.geeksforgeeks.org/placements-gq/\n",
      "\t\thttps://www.geeksforgeeks.org/category/competitive-programming/\n",
      "\t\thttps://www.geeksforgeeks.org/testimonials/\n",
      "\t\thttps://www.geeksforgeeks.org/category/geek-on-the-top/\n",
      "\t\thttps://www.geeksforgeeks.org/careers/\n",
      "\t\thttps://www.geeksforgeeks.org/internship/\n",
      "\t\thttps://practice.geeksforgeeks.org\n",
      "\t\thttps://www.geeksforgeeks.org/hire-with-us/\n",
      "\t\thttps://www.geeksforgeeks.org/\n",
      "\t\thttps://practice.geeksforgeeks.org\n",
      "\t\thttps://www.geeksforgeeks.org/hire-with-us/\n",
      "\t\thttps://www.geeksforgeeks.org/category/guestblogs/\n",
      "\t\thttps://www.geeksforgeeks.org/puzzles/\n",
      "\t\thttps://www.geeksforgeeks.org/geeks-classes-geeksforgeeks/\n",
      "\t\thttps://write.geeksforgeeks.org/posts-new\n"
     ]
    },
    {
     "ename": "SSLError",
     "evalue": "HTTPSConnectionPool(host='write.geeksforgeeks.org', port=443): Max retries exceeded with url: /posts-new (Caused by SSLError(SSLError(\"bad handshake: Error([('SSL routines', 'tls_process_server_certificate', 'certificate verify failed')])\")))",
     "output_type": "error",
     "traceback": [
      "\u001b[0;31m---------------------------------------------------------------------------\u001b[0m",
      "\u001b[0;31mError\u001b[0m                                     Traceback (most recent call last)",
      "\u001b[0;32m~/anaconda3/lib/python3.7/site-packages/urllib3/contrib/pyopenssl.py\u001b[0m in \u001b[0;36mwrap_socket\u001b[0;34m(self, sock, server_side, do_handshake_on_connect, suppress_ragged_eofs, server_hostname)\u001b[0m\n\u001b[1;32m    455\u001b[0m             \u001b[0;32mtry\u001b[0m\u001b[0;34m:\u001b[0m\u001b[0;34m\u001b[0m\u001b[0;34m\u001b[0m\u001b[0m\n\u001b[0;32m--> 456\u001b[0;31m                 \u001b[0mcnx\u001b[0m\u001b[0;34m.\u001b[0m\u001b[0mdo_handshake\u001b[0m\u001b[0;34m(\u001b[0m\u001b[0;34m)\u001b[0m\u001b[0;34m\u001b[0m\u001b[0;34m\u001b[0m\u001b[0m\n\u001b[0m\u001b[1;32m    457\u001b[0m             \u001b[0;32mexcept\u001b[0m \u001b[0mOpenSSL\u001b[0m\u001b[0;34m.\u001b[0m\u001b[0mSSL\u001b[0m\u001b[0;34m.\u001b[0m\u001b[0mWantReadError\u001b[0m\u001b[0;34m:\u001b[0m\u001b[0;34m\u001b[0m\u001b[0;34m\u001b[0m\u001b[0m\n",
      "\u001b[0;32m~/anaconda3/lib/python3.7/site-packages/OpenSSL/SSL.py\u001b[0m in \u001b[0;36mdo_handshake\u001b[0;34m(self)\u001b[0m\n\u001b[1;32m   1914\u001b[0m         \u001b[0mresult\u001b[0m \u001b[0;34m=\u001b[0m \u001b[0m_lib\u001b[0m\u001b[0;34m.\u001b[0m\u001b[0mSSL_do_handshake\u001b[0m\u001b[0;34m(\u001b[0m\u001b[0mself\u001b[0m\u001b[0;34m.\u001b[0m\u001b[0m_ssl\u001b[0m\u001b[0;34m)\u001b[0m\u001b[0;34m\u001b[0m\u001b[0;34m\u001b[0m\u001b[0m\n\u001b[0;32m-> 1915\u001b[0;31m         \u001b[0mself\u001b[0m\u001b[0;34m.\u001b[0m\u001b[0m_raise_ssl_error\u001b[0m\u001b[0;34m(\u001b[0m\u001b[0mself\u001b[0m\u001b[0;34m.\u001b[0m\u001b[0m_ssl\u001b[0m\u001b[0;34m,\u001b[0m \u001b[0mresult\u001b[0m\u001b[0;34m)\u001b[0m\u001b[0;34m\u001b[0m\u001b[0;34m\u001b[0m\u001b[0m\n\u001b[0m\u001b[1;32m   1916\u001b[0m \u001b[0;34m\u001b[0m\u001b[0m\n",
      "\u001b[0;32m~/anaconda3/lib/python3.7/site-packages/OpenSSL/SSL.py\u001b[0m in \u001b[0;36m_raise_ssl_error\u001b[0;34m(self, ssl, result)\u001b[0m\n\u001b[1;32m   1646\u001b[0m         \u001b[0;32melse\u001b[0m\u001b[0;34m:\u001b[0m\u001b[0;34m\u001b[0m\u001b[0;34m\u001b[0m\u001b[0m\n\u001b[0;32m-> 1647\u001b[0;31m             \u001b[0m_raise_current_error\u001b[0m\u001b[0;34m(\u001b[0m\u001b[0;34m)\u001b[0m\u001b[0;34m\u001b[0m\u001b[0;34m\u001b[0m\u001b[0m\n\u001b[0m\u001b[1;32m   1648\u001b[0m \u001b[0;34m\u001b[0m\u001b[0m\n",
      "\u001b[0;32m~/anaconda3/lib/python3.7/site-packages/OpenSSL/_util.py\u001b[0m in \u001b[0;36mexception_from_error_queue\u001b[0;34m(exception_type)\u001b[0m\n\u001b[1;32m     53\u001b[0m \u001b[0;34m\u001b[0m\u001b[0m\n\u001b[0;32m---> 54\u001b[0;31m     \u001b[0;32mraise\u001b[0m \u001b[0mexception_type\u001b[0m\u001b[0;34m(\u001b[0m\u001b[0merrors\u001b[0m\u001b[0;34m)\u001b[0m\u001b[0;34m\u001b[0m\u001b[0;34m\u001b[0m\u001b[0m\n\u001b[0m\u001b[1;32m     55\u001b[0m \u001b[0;34m\u001b[0m\u001b[0m\n",
      "\u001b[0;31mError\u001b[0m: [('SSL routines', 'tls_process_server_certificate', 'certificate verify failed')]",
      "\nDuring handling of the above exception, another exception occurred:\n",
      "\u001b[0;31mSSLError\u001b[0m                                  Traceback (most recent call last)",
      "\u001b[0;32m~/anaconda3/lib/python3.7/site-packages/urllib3/connectionpool.py\u001b[0m in \u001b[0;36murlopen\u001b[0;34m(self, method, url, body, headers, retries, redirect, assert_same_host, timeout, pool_timeout, release_conn, chunked, body_pos, **response_kw)\u001b[0m\n\u001b[1;32m    599\u001b[0m                                                   \u001b[0mbody\u001b[0m\u001b[0;34m=\u001b[0m\u001b[0mbody\u001b[0m\u001b[0;34m,\u001b[0m \u001b[0mheaders\u001b[0m\u001b[0;34m=\u001b[0m\u001b[0mheaders\u001b[0m\u001b[0;34m,\u001b[0m\u001b[0;34m\u001b[0m\u001b[0;34m\u001b[0m\u001b[0m\n\u001b[0;32m--> 600\u001b[0;31m                                                   chunked=chunked)\n\u001b[0m\u001b[1;32m    601\u001b[0m \u001b[0;34m\u001b[0m\u001b[0m\n",
      "\u001b[0;32m~/anaconda3/lib/python3.7/site-packages/urllib3/connectionpool.py\u001b[0m in \u001b[0;36m_make_request\u001b[0;34m(self, conn, method, url, timeout, chunked, **httplib_request_kw)\u001b[0m\n\u001b[1;32m    342\u001b[0m         \u001b[0;32mtry\u001b[0m\u001b[0;34m:\u001b[0m\u001b[0;34m\u001b[0m\u001b[0;34m\u001b[0m\u001b[0m\n\u001b[0;32m--> 343\u001b[0;31m             \u001b[0mself\u001b[0m\u001b[0;34m.\u001b[0m\u001b[0m_validate_conn\u001b[0m\u001b[0;34m(\u001b[0m\u001b[0mconn\u001b[0m\u001b[0;34m)\u001b[0m\u001b[0;34m\u001b[0m\u001b[0;34m\u001b[0m\u001b[0m\n\u001b[0m\u001b[1;32m    344\u001b[0m         \u001b[0;32mexcept\u001b[0m \u001b[0;34m(\u001b[0m\u001b[0mSocketTimeout\u001b[0m\u001b[0;34m,\u001b[0m \u001b[0mBaseSSLError\u001b[0m\u001b[0;34m)\u001b[0m \u001b[0;32mas\u001b[0m \u001b[0me\u001b[0m\u001b[0;34m:\u001b[0m\u001b[0;34m\u001b[0m\u001b[0;34m\u001b[0m\u001b[0m\n",
      "\u001b[0;32m~/anaconda3/lib/python3.7/site-packages/urllib3/connectionpool.py\u001b[0m in \u001b[0;36m_validate_conn\u001b[0;34m(self, conn)\u001b[0m\n\u001b[1;32m    838\u001b[0m         \u001b[0;32mif\u001b[0m \u001b[0;32mnot\u001b[0m \u001b[0mgetattr\u001b[0m\u001b[0;34m(\u001b[0m\u001b[0mconn\u001b[0m\u001b[0;34m,\u001b[0m \u001b[0;34m'sock'\u001b[0m\u001b[0;34m,\u001b[0m \u001b[0;32mNone\u001b[0m\u001b[0;34m)\u001b[0m\u001b[0;34m:\u001b[0m  \u001b[0;31m# AppEngine might not have  `.sock`\u001b[0m\u001b[0;34m\u001b[0m\u001b[0;34m\u001b[0m\u001b[0m\n\u001b[0;32m--> 839\u001b[0;31m             \u001b[0mconn\u001b[0m\u001b[0;34m.\u001b[0m\u001b[0mconnect\u001b[0m\u001b[0;34m(\u001b[0m\u001b[0;34m)\u001b[0m\u001b[0;34m\u001b[0m\u001b[0;34m\u001b[0m\u001b[0m\n\u001b[0m\u001b[1;32m    840\u001b[0m \u001b[0;34m\u001b[0m\u001b[0m\n",
      "\u001b[0;32m~/anaconda3/lib/python3.7/site-packages/urllib3/connection.py\u001b[0m in \u001b[0;36mconnect\u001b[0;34m(self)\u001b[0m\n\u001b[1;32m    343\u001b[0m             \u001b[0mserver_hostname\u001b[0m\u001b[0;34m=\u001b[0m\u001b[0mserver_hostname\u001b[0m\u001b[0;34m,\u001b[0m\u001b[0;34m\u001b[0m\u001b[0;34m\u001b[0m\u001b[0m\n\u001b[0;32m--> 344\u001b[0;31m             ssl_context=context)\n\u001b[0m\u001b[1;32m    345\u001b[0m \u001b[0;34m\u001b[0m\u001b[0m\n",
      "\u001b[0;32m~/anaconda3/lib/python3.7/site-packages/urllib3/util/ssl_.py\u001b[0m in \u001b[0;36mssl_wrap_socket\u001b[0;34m(sock, keyfile, certfile, cert_reqs, ca_certs, server_hostname, ssl_version, ciphers, ssl_context, ca_cert_dir)\u001b[0m\n\u001b[1;32m    346\u001b[0m         \u001b[0;32mif\u001b[0m \u001b[0mHAS_SNI\u001b[0m \u001b[0;32mand\u001b[0m \u001b[0mserver_hostname\u001b[0m \u001b[0;32mis\u001b[0m \u001b[0;32mnot\u001b[0m \u001b[0;32mNone\u001b[0m\u001b[0;34m:\u001b[0m\u001b[0;34m\u001b[0m\u001b[0;34m\u001b[0m\u001b[0m\n\u001b[0;32m--> 347\u001b[0;31m             \u001b[0;32mreturn\u001b[0m \u001b[0mcontext\u001b[0m\u001b[0;34m.\u001b[0m\u001b[0mwrap_socket\u001b[0m\u001b[0;34m(\u001b[0m\u001b[0msock\u001b[0m\u001b[0;34m,\u001b[0m \u001b[0mserver_hostname\u001b[0m\u001b[0;34m=\u001b[0m\u001b[0mserver_hostname\u001b[0m\u001b[0;34m)\u001b[0m\u001b[0;34m\u001b[0m\u001b[0;34m\u001b[0m\u001b[0m\n\u001b[0m\u001b[1;32m    348\u001b[0m \u001b[0;34m\u001b[0m\u001b[0m\n",
      "\u001b[0;32m~/anaconda3/lib/python3.7/site-packages/urllib3/contrib/pyopenssl.py\u001b[0m in \u001b[0;36mwrap_socket\u001b[0;34m(self, sock, server_side, do_handshake_on_connect, suppress_ragged_eofs, server_hostname)\u001b[0m\n\u001b[1;32m    461\u001b[0m             \u001b[0;32mexcept\u001b[0m \u001b[0mOpenSSL\u001b[0m\u001b[0;34m.\u001b[0m\u001b[0mSSL\u001b[0m\u001b[0;34m.\u001b[0m\u001b[0mError\u001b[0m \u001b[0;32mas\u001b[0m \u001b[0me\u001b[0m\u001b[0;34m:\u001b[0m\u001b[0;34m\u001b[0m\u001b[0;34m\u001b[0m\u001b[0m\n\u001b[0;32m--> 462\u001b[0;31m                 \u001b[0;32mraise\u001b[0m \u001b[0mssl\u001b[0m\u001b[0;34m.\u001b[0m\u001b[0mSSLError\u001b[0m\u001b[0;34m(\u001b[0m\u001b[0;34m'bad handshake: %r'\u001b[0m \u001b[0;34m%\u001b[0m \u001b[0me\u001b[0m\u001b[0;34m)\u001b[0m\u001b[0;34m\u001b[0m\u001b[0;34m\u001b[0m\u001b[0m\n\u001b[0m\u001b[1;32m    463\u001b[0m             \u001b[0;32mbreak\u001b[0m\u001b[0;34m\u001b[0m\u001b[0;34m\u001b[0m\u001b[0m\n",
      "\u001b[0;31mSSLError\u001b[0m: (\"bad handshake: Error([('SSL routines', 'tls_process_server_certificate', 'certificate verify failed')])\",)",
      "\nDuring handling of the above exception, another exception occurred:\n",
      "\u001b[0;31mMaxRetryError\u001b[0m                             Traceback (most recent call last)",
      "\u001b[0;32m~/anaconda3/lib/python3.7/site-packages/requests/adapters.py\u001b[0m in \u001b[0;36msend\u001b[0;34m(self, request, stream, timeout, verify, cert, proxies)\u001b[0m\n\u001b[1;32m    448\u001b[0m                     \u001b[0mretries\u001b[0m\u001b[0;34m=\u001b[0m\u001b[0mself\u001b[0m\u001b[0;34m.\u001b[0m\u001b[0mmax_retries\u001b[0m\u001b[0;34m,\u001b[0m\u001b[0;34m\u001b[0m\u001b[0;34m\u001b[0m\u001b[0m\n\u001b[0;32m--> 449\u001b[0;31m                     \u001b[0mtimeout\u001b[0m\u001b[0;34m=\u001b[0m\u001b[0mtimeout\u001b[0m\u001b[0;34m\u001b[0m\u001b[0;34m\u001b[0m\u001b[0m\n\u001b[0m\u001b[1;32m    450\u001b[0m                 )\n",
      "\u001b[0;32m~/anaconda3/lib/python3.7/site-packages/urllib3/connectionpool.py\u001b[0m in \u001b[0;36murlopen\u001b[0;34m(self, method, url, body, headers, retries, redirect, assert_same_host, timeout, pool_timeout, release_conn, chunked, body_pos, **response_kw)\u001b[0m\n\u001b[1;32m    637\u001b[0m             retries = retries.increment(method, url, error=e, _pool=self,\n\u001b[0;32m--> 638\u001b[0;31m                                         _stacktrace=sys.exc_info()[2])\n\u001b[0m\u001b[1;32m    639\u001b[0m             \u001b[0mretries\u001b[0m\u001b[0;34m.\u001b[0m\u001b[0msleep\u001b[0m\u001b[0;34m(\u001b[0m\u001b[0;34m)\u001b[0m\u001b[0;34m\u001b[0m\u001b[0;34m\u001b[0m\u001b[0m\n",
      "\u001b[0;32m~/anaconda3/lib/python3.7/site-packages/urllib3/util/retry.py\u001b[0m in \u001b[0;36mincrement\u001b[0;34m(self, method, url, response, error, _pool, _stacktrace)\u001b[0m\n\u001b[1;32m    398\u001b[0m         \u001b[0;32mif\u001b[0m \u001b[0mnew_retry\u001b[0m\u001b[0;34m.\u001b[0m\u001b[0mis_exhausted\u001b[0m\u001b[0;34m(\u001b[0m\u001b[0;34m)\u001b[0m\u001b[0;34m:\u001b[0m\u001b[0;34m\u001b[0m\u001b[0;34m\u001b[0m\u001b[0m\n\u001b[0;32m--> 399\u001b[0;31m             \u001b[0;32mraise\u001b[0m \u001b[0mMaxRetryError\u001b[0m\u001b[0;34m(\u001b[0m\u001b[0m_pool\u001b[0m\u001b[0;34m,\u001b[0m \u001b[0murl\u001b[0m\u001b[0;34m,\u001b[0m \u001b[0merror\u001b[0m \u001b[0;32mor\u001b[0m \u001b[0mResponseError\u001b[0m\u001b[0;34m(\u001b[0m\u001b[0mcause\u001b[0m\u001b[0;34m)\u001b[0m\u001b[0;34m)\u001b[0m\u001b[0;34m\u001b[0m\u001b[0;34m\u001b[0m\u001b[0m\n\u001b[0m\u001b[1;32m    400\u001b[0m \u001b[0;34m\u001b[0m\u001b[0m\n",
      "\u001b[0;31mMaxRetryError\u001b[0m: HTTPSConnectionPool(host='write.geeksforgeeks.org', port=443): Max retries exceeded with url: /posts-new (Caused by SSLError(SSLError(\"bad handshake: Error([('SSL routines', 'tls_process_server_certificate', 'certificate verify failed')])\")))",
      "\nDuring handling of the above exception, another exception occurred:\n",
      "\u001b[0;31mSSLError\u001b[0m                                  Traceback (most recent call last)",
      "\u001b[0;32m<ipython-input-61-d3b4987d5cff>\u001b[0m in \u001b[0;36m<module>\u001b[0;34m\u001b[0m\n\u001b[1;32m      1\u001b[0m \u001b[0;31m# calling all the available links of the website\u001b[0m\u001b[0;34m\u001b[0m\u001b[0;34m\u001b[0m\u001b[0;34m\u001b[0m\u001b[0m\n\u001b[0;32m----> 2\u001b[0;31m \u001b[0mwebdir\u001b[0m\u001b[0;34m(\u001b[0m\u001b[0;34m\"https://www.geeksforgeeks.org\"\u001b[0m\u001b[0;34m,\u001b[0m\u001b[0;36m2\u001b[0m\u001b[0;34m,\u001b[0m\u001b[0;36m0\u001b[0m\u001b[0;34m)\u001b[0m\u001b[0;34m\u001b[0m\u001b[0;34m\u001b[0m\u001b[0m\n\u001b[0m",
      "\u001b[0;32m<ipython-input-60-cd6543af788e>\u001b[0m in \u001b[0;36mwebdir\u001b[0;34m(url, depth, indent)\u001b[0m\n\u001b[1;32m     46\u001b[0m         \u001b[0;32mif\u001b[0m\u001b[0;34m(\u001b[0m\u001b[0;32mnot\u001b[0m \u001b[0;34m'http'\u001b[0m \u001b[0;32min\u001b[0m \u001b[0m_url\u001b[0m\u001b[0;34m)\u001b[0m\u001b[0;34m:\u001b[0m\u001b[0;34m\u001b[0m\u001b[0;34m\u001b[0m\u001b[0m\n\u001b[1;32m     47\u001b[0m             \u001b[0m_url\u001b[0m \u001b[0;34m=\u001b[0m \u001b[0murl\u001b[0m\u001b[0;34m+\u001b[0m\u001b[0m_url\u001b[0m\u001b[0;34m\u001b[0m\u001b[0;34m\u001b[0m\u001b[0m\n\u001b[0;32m---> 48\u001b[0;31m         \u001b[0mwebdir\u001b[0m\u001b[0;34m(\u001b[0m\u001b[0m_url\u001b[0m\u001b[0;34m,\u001b[0m\u001b[0mdepth\u001b[0m\u001b[0;34m-\u001b[0m\u001b[0;36m1\u001b[0m\u001b[0;34m,\u001b[0m\u001b[0mindent\u001b[0m\u001b[0;34m+\u001b[0m\u001b[0;36m1\u001b[0m\u001b[0;34m)\u001b[0m\u001b[0;34m\u001b[0m\u001b[0;34m\u001b[0m\u001b[0m\n\u001b[0m\u001b[1;32m     49\u001b[0m \u001b[0;34m\u001b[0m\u001b[0m\n",
      "\u001b[0;32m<ipython-input-60-cd6543af788e>\u001b[0m in \u001b[0;36mwebdir\u001b[0;34m(url, depth, indent)\u001b[0m\n\u001b[1;32m     46\u001b[0m         \u001b[0;32mif\u001b[0m\u001b[0;34m(\u001b[0m\u001b[0;32mnot\u001b[0m \u001b[0;34m'http'\u001b[0m \u001b[0;32min\u001b[0m \u001b[0m_url\u001b[0m\u001b[0;34m)\u001b[0m\u001b[0;34m:\u001b[0m\u001b[0;34m\u001b[0m\u001b[0;34m\u001b[0m\u001b[0m\n\u001b[1;32m     47\u001b[0m             \u001b[0m_url\u001b[0m \u001b[0;34m=\u001b[0m \u001b[0murl\u001b[0m\u001b[0;34m+\u001b[0m\u001b[0m_url\u001b[0m\u001b[0;34m\u001b[0m\u001b[0;34m\u001b[0m\u001b[0m\n\u001b[0;32m---> 48\u001b[0;31m         \u001b[0mwebdir\u001b[0m\u001b[0;34m(\u001b[0m\u001b[0m_url\u001b[0m\u001b[0;34m,\u001b[0m\u001b[0mdepth\u001b[0m\u001b[0;34m-\u001b[0m\u001b[0;36m1\u001b[0m\u001b[0;34m,\u001b[0m\u001b[0mindent\u001b[0m\u001b[0;34m+\u001b[0m\u001b[0;36m1\u001b[0m\u001b[0;34m)\u001b[0m\u001b[0;34m\u001b[0m\u001b[0;34m\u001b[0m\u001b[0m\n\u001b[0m\u001b[1;32m     49\u001b[0m \u001b[0;34m\u001b[0m\u001b[0m\n",
      "\u001b[0;32m<ipython-input-60-cd6543af788e>\u001b[0m in \u001b[0;36mwebdir\u001b[0;34m(url, depth, indent)\u001b[0m\n\u001b[1;32m     36\u001b[0m \u001b[0;34m\u001b[0m\u001b[0m\n\u001b[1;32m     37\u001b[0m     \u001b[0murlParser\u001b[0m \u001b[0;34m=\u001b[0m \u001b[0mUrlParser\u001b[0m\u001b[0;34m(\u001b[0m\u001b[0;34m)\u001b[0m\u001b[0;34m\u001b[0m\u001b[0;34m\u001b[0m\u001b[0m\n\u001b[0;32m---> 38\u001b[0;31m     \u001b[0mhtml\u001b[0m \u001b[0;34m=\u001b[0m \u001b[0mrequests\u001b[0m\u001b[0;34m.\u001b[0m\u001b[0mget\u001b[0m\u001b[0;34m(\u001b[0m\u001b[0murl\u001b[0m\u001b[0;34m)\u001b[0m\u001b[0;34m\u001b[0m\u001b[0;34m\u001b[0m\u001b[0m\n\u001b[0m\u001b[1;32m     39\u001b[0m     \u001b[0murlParser\u001b[0m\u001b[0;34m.\u001b[0m\u001b[0mfeed\u001b[0m\u001b[0;34m(\u001b[0m\u001b[0mhtml\u001b[0m\u001b[0;34m.\u001b[0m\u001b[0mtext\u001b[0m\u001b[0;34m)\u001b[0m\u001b[0;34m\u001b[0m\u001b[0;34m\u001b[0m\u001b[0m\n\u001b[1;32m     40\u001b[0m     \u001b[0murls\u001b[0m \u001b[0;34m=\u001b[0m \u001b[0murlParser\u001b[0m\u001b[0;34m.\u001b[0m\u001b[0mgetUrls\u001b[0m\u001b[0;34m(\u001b[0m\u001b[0;34m)\u001b[0m\u001b[0;34m\u001b[0m\u001b[0;34m\u001b[0m\u001b[0m\n",
      "\u001b[0;32m~/anaconda3/lib/python3.7/site-packages/requests/api.py\u001b[0m in \u001b[0;36mget\u001b[0;34m(url, params, **kwargs)\u001b[0m\n\u001b[1;32m     73\u001b[0m \u001b[0;34m\u001b[0m\u001b[0m\n\u001b[1;32m     74\u001b[0m     \u001b[0mkwargs\u001b[0m\u001b[0;34m.\u001b[0m\u001b[0msetdefault\u001b[0m\u001b[0;34m(\u001b[0m\u001b[0;34m'allow_redirects'\u001b[0m\u001b[0;34m,\u001b[0m \u001b[0;32mTrue\u001b[0m\u001b[0;34m)\u001b[0m\u001b[0;34m\u001b[0m\u001b[0;34m\u001b[0m\u001b[0m\n\u001b[0;32m---> 75\u001b[0;31m     \u001b[0;32mreturn\u001b[0m \u001b[0mrequest\u001b[0m\u001b[0;34m(\u001b[0m\u001b[0;34m'get'\u001b[0m\u001b[0;34m,\u001b[0m \u001b[0murl\u001b[0m\u001b[0;34m,\u001b[0m \u001b[0mparams\u001b[0m\u001b[0;34m=\u001b[0m\u001b[0mparams\u001b[0m\u001b[0;34m,\u001b[0m \u001b[0;34m**\u001b[0m\u001b[0mkwargs\u001b[0m\u001b[0;34m)\u001b[0m\u001b[0;34m\u001b[0m\u001b[0;34m\u001b[0m\u001b[0m\n\u001b[0m\u001b[1;32m     76\u001b[0m \u001b[0;34m\u001b[0m\u001b[0m\n\u001b[1;32m     77\u001b[0m \u001b[0;34m\u001b[0m\u001b[0m\n",
      "\u001b[0;32m~/anaconda3/lib/python3.7/site-packages/requests/api.py\u001b[0m in \u001b[0;36mrequest\u001b[0;34m(method, url, **kwargs)\u001b[0m\n\u001b[1;32m     58\u001b[0m     \u001b[0;31m# cases, and look like a memory leak in others.\u001b[0m\u001b[0;34m\u001b[0m\u001b[0;34m\u001b[0m\u001b[0;34m\u001b[0m\u001b[0m\n\u001b[1;32m     59\u001b[0m     \u001b[0;32mwith\u001b[0m \u001b[0msessions\u001b[0m\u001b[0;34m.\u001b[0m\u001b[0mSession\u001b[0m\u001b[0;34m(\u001b[0m\u001b[0;34m)\u001b[0m \u001b[0;32mas\u001b[0m \u001b[0msession\u001b[0m\u001b[0;34m:\u001b[0m\u001b[0;34m\u001b[0m\u001b[0;34m\u001b[0m\u001b[0m\n\u001b[0;32m---> 60\u001b[0;31m         \u001b[0;32mreturn\u001b[0m \u001b[0msession\u001b[0m\u001b[0;34m.\u001b[0m\u001b[0mrequest\u001b[0m\u001b[0;34m(\u001b[0m\u001b[0mmethod\u001b[0m\u001b[0;34m=\u001b[0m\u001b[0mmethod\u001b[0m\u001b[0;34m,\u001b[0m \u001b[0murl\u001b[0m\u001b[0;34m=\u001b[0m\u001b[0murl\u001b[0m\u001b[0;34m,\u001b[0m \u001b[0;34m**\u001b[0m\u001b[0mkwargs\u001b[0m\u001b[0;34m)\u001b[0m\u001b[0;34m\u001b[0m\u001b[0;34m\u001b[0m\u001b[0m\n\u001b[0m\u001b[1;32m     61\u001b[0m \u001b[0;34m\u001b[0m\u001b[0m\n\u001b[1;32m     62\u001b[0m \u001b[0;34m\u001b[0m\u001b[0m\n",
      "\u001b[0;32m~/anaconda3/lib/python3.7/site-packages/requests/sessions.py\u001b[0m in \u001b[0;36mrequest\u001b[0;34m(self, method, url, params, data, headers, cookies, files, auth, timeout, allow_redirects, proxies, hooks, stream, verify, cert, json)\u001b[0m\n\u001b[1;32m    531\u001b[0m         }\n\u001b[1;32m    532\u001b[0m         \u001b[0msend_kwargs\u001b[0m\u001b[0;34m.\u001b[0m\u001b[0mupdate\u001b[0m\u001b[0;34m(\u001b[0m\u001b[0msettings\u001b[0m\u001b[0;34m)\u001b[0m\u001b[0;34m\u001b[0m\u001b[0;34m\u001b[0m\u001b[0m\n\u001b[0;32m--> 533\u001b[0;31m         \u001b[0mresp\u001b[0m \u001b[0;34m=\u001b[0m \u001b[0mself\u001b[0m\u001b[0;34m.\u001b[0m\u001b[0msend\u001b[0m\u001b[0;34m(\u001b[0m\u001b[0mprep\u001b[0m\u001b[0;34m,\u001b[0m \u001b[0;34m**\u001b[0m\u001b[0msend_kwargs\u001b[0m\u001b[0;34m)\u001b[0m\u001b[0;34m\u001b[0m\u001b[0;34m\u001b[0m\u001b[0m\n\u001b[0m\u001b[1;32m    534\u001b[0m \u001b[0;34m\u001b[0m\u001b[0m\n\u001b[1;32m    535\u001b[0m         \u001b[0;32mreturn\u001b[0m \u001b[0mresp\u001b[0m\u001b[0;34m\u001b[0m\u001b[0;34m\u001b[0m\u001b[0m\n",
      "\u001b[0;32m~/anaconda3/lib/python3.7/site-packages/requests/sessions.py\u001b[0m in \u001b[0;36msend\u001b[0;34m(self, request, **kwargs)\u001b[0m\n\u001b[1;32m    644\u001b[0m \u001b[0;34m\u001b[0m\u001b[0m\n\u001b[1;32m    645\u001b[0m         \u001b[0;31m# Send the request\u001b[0m\u001b[0;34m\u001b[0m\u001b[0;34m\u001b[0m\u001b[0;34m\u001b[0m\u001b[0m\n\u001b[0;32m--> 646\u001b[0;31m         \u001b[0mr\u001b[0m \u001b[0;34m=\u001b[0m \u001b[0madapter\u001b[0m\u001b[0;34m.\u001b[0m\u001b[0msend\u001b[0m\u001b[0;34m(\u001b[0m\u001b[0mrequest\u001b[0m\u001b[0;34m,\u001b[0m \u001b[0;34m**\u001b[0m\u001b[0mkwargs\u001b[0m\u001b[0;34m)\u001b[0m\u001b[0;34m\u001b[0m\u001b[0;34m\u001b[0m\u001b[0m\n\u001b[0m\u001b[1;32m    647\u001b[0m \u001b[0;34m\u001b[0m\u001b[0m\n\u001b[1;32m    648\u001b[0m         \u001b[0;31m# Total elapsed time of the request (approximately)\u001b[0m\u001b[0;34m\u001b[0m\u001b[0;34m\u001b[0m\u001b[0;34m\u001b[0m\u001b[0m\n",
      "\u001b[0;32m~/anaconda3/lib/python3.7/site-packages/requests/adapters.py\u001b[0m in \u001b[0;36msend\u001b[0;34m(self, request, stream, timeout, verify, cert, proxies)\u001b[0m\n\u001b[1;32m    512\u001b[0m             \u001b[0;32mif\u001b[0m \u001b[0misinstance\u001b[0m\u001b[0;34m(\u001b[0m\u001b[0me\u001b[0m\u001b[0;34m.\u001b[0m\u001b[0mreason\u001b[0m\u001b[0;34m,\u001b[0m \u001b[0m_SSLError\u001b[0m\u001b[0;34m)\u001b[0m\u001b[0;34m:\u001b[0m\u001b[0;34m\u001b[0m\u001b[0;34m\u001b[0m\u001b[0m\n\u001b[1;32m    513\u001b[0m                 \u001b[0;31m# This branch is for urllib3 v1.22 and later.\u001b[0m\u001b[0;34m\u001b[0m\u001b[0;34m\u001b[0m\u001b[0;34m\u001b[0m\u001b[0m\n\u001b[0;32m--> 514\u001b[0;31m                 \u001b[0;32mraise\u001b[0m \u001b[0mSSLError\u001b[0m\u001b[0;34m(\u001b[0m\u001b[0me\u001b[0m\u001b[0;34m,\u001b[0m \u001b[0mrequest\u001b[0m\u001b[0;34m=\u001b[0m\u001b[0mrequest\u001b[0m\u001b[0;34m)\u001b[0m\u001b[0;34m\u001b[0m\u001b[0;34m\u001b[0m\u001b[0m\n\u001b[0m\u001b[1;32m    515\u001b[0m \u001b[0;34m\u001b[0m\u001b[0m\n\u001b[1;32m    516\u001b[0m             \u001b[0;32mraise\u001b[0m \u001b[0mConnectionError\u001b[0m\u001b[0;34m(\u001b[0m\u001b[0me\u001b[0m\u001b[0;34m,\u001b[0m \u001b[0mrequest\u001b[0m\u001b[0;34m=\u001b[0m\u001b[0mrequest\u001b[0m\u001b[0;34m)\u001b[0m\u001b[0;34m\u001b[0m\u001b[0;34m\u001b[0m\u001b[0m\n",
      "\u001b[0;31mSSLError\u001b[0m: HTTPSConnectionPool(host='write.geeksforgeeks.org', port=443): Max retries exceeded with url: /posts-new (Caused by SSLError(SSLError(\"bad handshake: Error([('SSL routines', 'tls_process_server_certificate', 'certificate verify failed')])\")))"
     ]
    }
   ],
   "source": [
    "# calling all the available links of the website\n",
    "webdir(\"https://www.geeksforgeeks.org\",2,0)"
   ]
  },
  {
   "cell_type": "markdown",
   "metadata": {},
   "source": [
    "# Question 9: Write SQL queries on the below database table that return: Assuming the table name as Weather\n",
    "# a) All the temperature data.\n",
    "# b) All the cities, but without repetition.\n",
    "# c) All the records for India.\n",
    "# d) All the Fall records.\n",
    "# e) The city, country, and season for which the average rainfall is between 200 and 400 millimeters.\n",
    "# f) The city and country for which the average Fall temperature is above 20 degrees, in increasing temperature order.\n",
    "# g) The total annual rainfall for Cairo.\n",
    "# h) The total rainfall for each season."
   ]
  },
  {
   "cell_type": "markdown",
   "metadata": {},
   "source": [
    "# Solution:\n",
    "## a: SELECT temperature FROM Weather \n",
    "## b: SELECT DISTINCT City FROM Weather\n",
    "## c: SELECT * FROM Weather WHERE Country = 'India'\n",
    "## d: SELECT * FROM Weather WHERE Season = 'Fall'\n",
    "## e: SELECT City, Country, Season FROM Weather WHERE Rainfall BETWEEN 200 AND 400\n",
    "## f: SELECT City, Country FROM Weather WHERE Season = 'Fall' AND temperature >20 ORDER BY temperature ASC\n",
    "## g: SELECT Sum(Rainfall) FROM Weather WHERE City='Cairo';\n",
    "## h: SELECT Season,Sum(Rainfall) FROM Weather GROUP BY Season;"
   ]
  },
  {
   "cell_type": "markdown",
   "metadata": {},
   "source": [
    "# Question 10: Suppose list words is defined as follows: words = ['The', 'quick', 'brown', 'fox', 'jumps', 'over', 'the', 'lazy', 'dog'] Write list comprehension expressions that use list words and generate the following lists:"
   ]
  },
  {
   "cell_type": "markdown",
   "metadata": {},
   "source": [
    "# Solution:"
   ]
  },
  {
   "cell_type": "code",
   "execution_count": 62,
   "metadata": {},
   "outputs": [
    {
     "name": "stdout",
     "output_type": "stream",
     "text": [
      "['THE', 'QUICK', 'BROWN', 'FOX', 'JUMPS', 'OVER', 'THE', 'LAZY', 'DOG']\n",
      "['the', 'quick', 'brown', 'fox', 'jumps', 'over', 'the', 'lazy', 'dog']\n",
      "[3, 5, 5, 3, 5, 4, 3, 4, 3]\n",
      "[['THE', 'the', 3], ['QUICK', 'quick', 5], ['BROWN', 'brown', 5], ['FOX', 'fox', 3], ['JUMPS', 'jumps', 5], ['OVER', 'over', 4], ['THE', 'the', 3], ['LAZY', 'lazy', 4], ['DOG', 'dog', 3]]\n",
      "['quick', 'brown', 'jumps', 'over', 'lazy']\n"
     ]
    }
   ],
   "source": [
    "words = ['The', 'quick', 'brown', 'fox', 'jumps', 'over', 'the', 'lazy', 'dog']\n",
    "\n",
    "# to print the items of list in upper case \n",
    "a = [i.upper() for i in words]\n",
    "\n",
    "# to print the items of list in lower case\n",
    "b = [i.lower() for i in words]\n",
    "\n",
    "# to print length of each item of list\n",
    "c = [len(i) for i in words]\n",
    "\n",
    "# to print items in upper,lower case and the length of items\n",
    "d = [[i.upper(),i.lower(),len(i)] for i in words]\n",
    "\n",
    "# to print items which has length 4 or > 4\n",
    "e = [i for i in words if len(i)>=4]\n",
    "\n",
    "print(a)\n",
    "print(b)\n",
    "print(c)\n",
    "print(d)\n",
    "print(e)\n"
   ]
  },
  {
   "cell_type": "code",
   "execution_count": null,
   "metadata": {},
   "outputs": [],
   "source": []
  }
 ],
 "metadata": {
  "kernelspec": {
   "display_name": "Python 3",
   "language": "python",
   "name": "python3"
  },
  "language_info": {
   "codemirror_mode": {
    "name": "ipython",
    "version": 3
   },
   "file_extension": ".py",
   "mimetype": "text/x-python",
   "name": "python",
   "nbconvert_exporter": "python",
   "pygments_lexer": "ipython3",
   "version": "3.7.4"
  }
 },
 "nbformat": 4,
 "nbformat_minor": 4
}
